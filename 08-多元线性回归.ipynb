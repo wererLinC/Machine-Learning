{
 "cells": [
  {
   "cell_type": "markdown",
   "metadata": {},
   "source": [
    "这里我们采用公式法，梯度下降法将在后面讲解道。因为并不是所有的解都是可以通过公式推导得到的\n",
    "如在我们下节的逻辑回归中，木有公式，所以只能用梯度下降或着牛顿法"
   ]
  },
  {
   "cell_type": "markdown",
   "metadata": {},
   "source": [
    "跟上节一样，只不过是$\\beta_1$变成多维（向量）不再是一个标量，因此我们用$w$表示\n",
    "<br>\n",
    "$f(x_i) = x_iw + b$\n",
    "<br>\n",
    "为了使用矩阵的运算，我们一般会在$X$后面添上一列1，把b归到$w$的参数中，这样就可以直接用矩阵运算\n",
    "<br>\n",
    "$f(x_i) = X_bW$ 其中$W = (w,b), X_b = (X, 1) $\n",
    "<br>\n",
    "$f(x_i) = x_i^{(1)}w_1+...+ x_i^{(m)}w_m + b$\n",
    "<br>\n",
    "我们要求均方误差最小\n",
    "<br>\n",
    "$ \\min{ (\\sum_{i=1}^n(f(x_i) - y_i)^2) }$ \n",
    "<br>\n",
    "$\\Rightarrow J(W) = (Y-X_bW)^T(Y-X_bW)$ 其中矩阵运算$A^2 = A^TA$\n",
    "<br>\n",
    "$\\Rightarrow \\frac{\\partial J}{\\partial W} = \\frac{\\partial (Y-X_bW)^T(Y-X_bW)}{\\partial W}$\n",
    "<br>\n",
    "$\\qquad \\quad  = 2 \\frac{\\partial(Y-X_bW)^T}{\\partial W}(Y-X_bW) \\quad$这边用到矩阵导数性质\n",
    "$\\frac {\\partial (X^TX)}{\\partial x} = 2 \\frac{\\partial X^T}{\\partial x}(X)$\n",
    "<br>\n",
    "$\\qquad \\quad  = 2 \\frac{\\partial Y^T}{\\partial W}(Y-X_bW) -2\\frac{\\partial(X_bW)^T}{\\partial W}(Y-X_bW) $\n",
    "<br>\n",
    "$\\qquad \\quad  = 2 X_b^T(X_bW-Y)$\n",
    "<br>\n",
    "令$ 2 X_b^T(X_bW-Y) = 0$\n",
    "<br>\n",
    "$\\Rightarrow W^* = (X_b^TX_b)^{-1}X_b^TY$"
   ]
  },
  {
   "cell_type": "markdown",
   "metadata": {},
   "source": [
    "从线性代数来解释\n",
    "<br>\n",
    "$X_bW = Y$\n",
    "<br>等式两侧同时乘以$X_b^{-1}$\n",
    "<br>\n",
    "$\\Rightarrow X_{b}^{-1}X_bW = X_b^{-1}Y$\n",
    "<br>\n",
    "$\\Rightarrow W = X_b^{-1}Y$\n",
    "<br>\n",
    "问题是$X_b$并不是一个方阵，所以不存在逆矩阵，所以要想办法把其变成方阵，解决办法是两边乘以$X_b^T$\n",
    "<br>\n",
    "$\\Rightarrow X_b^TX_bW = X_b^TY$\n",
    "<br>\n",
    "$\\Rightarrow  W = (X_b^TX_b)^{-1}X_b^TY$\n",
    "<br>同样得出相同的结果"
   ]
  },
  {
   "cell_type": "code",
   "execution_count": 10,
   "metadata": {},
   "outputs": [],
   "source": [
    "from matplotlib import pyplot as plt\n",
    "import numpy as np"
   ]
  },
  {
   "cell_type": "code",
   "execution_count": 11,
   "metadata": {},
   "outputs": [],
   "source": [
    "# 加载数据\n",
    "from sklearn.datasets import load_boston\n",
    "boston = load_boston()\n",
    "X = boston.data\n",
    "Y = boston.target\n",
    "from sklearn.model_selection import train_test_split\n",
    "train_X,test_X,train_Y,test_Y = train_test_split(X,Y)"
   ]
  },
  {
   "cell_type": "markdown",
   "metadata": {},
   "source": [
    "第一步，对X进行操作，就是在前面加上一列1"
   ]
  },
  {
   "cell_type": "code",
   "execution_count": 3,
   "metadata": {},
   "outputs": [
    {
     "data": {
      "text/plain": [
       "(379, 14)"
      ]
     },
     "execution_count": 3,
     "metadata": {},
     "output_type": "execute_result"
    }
   ],
   "source": [
    "train_x = np.hstack([ np.ones((len(train_X),1)),train_X])\n",
    "train_x.shape"
   ]
  },
  {
   "cell_type": "code",
   "execution_count": 4,
   "metadata": {},
   "outputs": [],
   "source": [
    "# 由我们推导得到的结果\n",
    "K = np.linalg.inv(train_x.T.dot(train_x)).dot(train_x.T).dot(train_Y)"
   ]
  },
  {
   "cell_type": "code",
   "execution_count": 5,
   "metadata": {},
   "outputs": [],
   "source": [
    "test_x = np.hstack([ np.ones((len(test_X),1)),test_X])\n",
    "predict_y = test_x.dot(K)"
   ]
  },
  {
   "cell_type": "code",
   "execution_count": 7,
   "metadata": {},
   "outputs": [
    {
     "data": {
      "text/plain": [
       "0.7639513045158043"
      ]
     },
     "execution_count": 7,
     "metadata": {},
     "output_type": "execute_result"
    }
   ],
   "source": [
    "from sklearn.metrics import r2_score\n",
    "r2_score(test_Y,predict_y)"
   ]
  },
  {
   "cell_type": "markdown",
   "metadata": {},
   "source": [
    "使用sklean中的线性回归"
   ]
  },
  {
   "cell_type": "code",
   "execution_count": 8,
   "metadata": {},
   "outputs": [
    {
     "data": {
      "text/plain": [
       "0.763951304515782"
      ]
     },
     "execution_count": 8,
     "metadata": {},
     "output_type": "execute_result"
    }
   ],
   "source": [
    "from sklearn.linear_model import LinearRegression\n",
    "lin_reg = LinearRegression()\n",
    "lin_reg.fit(train_X, train_Y)\n",
    "sk_y_predict = lin_reg.predict(test_X)\n",
    "\n",
    "r2_score(test_Y, sk_y_predict)"
   ]
  },
  {
   "cell_type": "markdown",
   "metadata": {},
   "source": [
    "END"
   ]
  }
 ],
 "metadata": {
  "kernelspec": {
   "display_name": "Python 3",
   "language": "python",
   "name": "python3"
  },
  "language_info": {
   "codemirror_mode": {
    "name": "ipython",
    "version": 3
   },
   "file_extension": ".py",
   "mimetype": "text/x-python",
   "name": "python",
   "nbconvert_exporter": "python",
   "pygments_lexer": "ipython3",
   "version": "3.7.1"
  }
 },
 "nbformat": 4,
 "nbformat_minor": 2
}
