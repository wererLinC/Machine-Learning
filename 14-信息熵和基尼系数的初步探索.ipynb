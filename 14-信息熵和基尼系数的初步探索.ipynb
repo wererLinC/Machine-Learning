{
 "cells": [
  {
   "cell_type": "code",
   "execution_count": 1,
   "metadata": {},
   "outputs": [],
   "source": [
    "import numpy as np\n",
    "import matplotlib.pyplot as plt"
   ]
  },
  {
   "cell_type": "markdown",
   "metadata": {},
   "source": [
    "熵是用来描述不确定程度，越大表示越不确定。例如我们有三个事件，每个事件发生的概率都为$\\frac{1}{3}$那么此时熵最大，因为每个事件都有发生的可能，此时包含的信息量也最大。这也称之为最大熵模型\n",
    "<br>\n",
    "如果其中某个事件发生的概率为$\\frac{99}{100}$那么此时这个事件是接近于肯定发生，也就说明事件发生比较确定，那么此时所包含的信息量就比较少。\n",
    "<br>\n",
    "例如，买彩票中1000W，概率小，信息量很大；太阳从东边升起，确定的事情，信息量几乎为0."
   ]
  },
  {
   "cell_type": "markdown",
   "metadata": {},
   "source": [
    "信息熵"
   ]
  },
  {
   "cell_type": "code",
   "execution_count": null,
   "metadata": {},
   "outputs": [],
   "source": [
    "# 信息熵\n",
    "def Ent(p):\n",
    "    return np.sum(-p*np.log(p))"
   ]
  },
  {
   "cell_type": "code",
   "execution_count": 10,
   "metadata": {},
   "outputs": [
    {
     "name": "stdout",
     "output_type": "stream",
     "text": [
      "1.0986122886681096\n"
     ]
    }
   ],
   "source": [
    "x1 = np.array([1/3, 1/3, 1/3])  # 每个样本点，划分成第一类的概率都为1/3\n",
    "print(Ent(x1)) # 越大我们的纯度越小"
   ]
  },
  {
   "cell_type": "code",
   "execution_count": 12,
   "metadata": {},
   "outputs": [
    {
     "name": "stdout",
     "output_type": "stream",
     "text": [
      "0.5929681599915008\n"
     ]
    }
   ],
   "source": [
    "x2 = np.array([8/9, 0.5/9, 0.5/9]) # 因为事件发生的概率是最大的，所以信息熵会比较小\n",
    "print(Ent(x2)) "
   ]
  },
  {
   "cell_type": "markdown",
   "metadata": {},
   "source": [
    "基尼系数，定义与信息熵基本类似"
   ]
  },
  {
   "cell_type": "code",
   "execution_count": 14,
   "metadata": {},
   "outputs": [],
   "source": [
    "def jini(p):\n",
    "    return 1-np.sum(p**2)"
   ]
  },
  {
   "cell_type": "code",
   "execution_count": 15,
   "metadata": {},
   "outputs": [
    {
     "name": "stdout",
     "output_type": "stream",
     "text": [
      "0.6666666666666667\n"
     ]
    }
   ],
   "source": [
    "x1 = np.array([1/3, 1/3, 1/3])  # 每个样本点，划分成第一类的概率都为1/3\n",
    "print(jini(x1)) # 越大我们的纯度越小"
   ]
  },
  {
   "cell_type": "code",
   "execution_count": 17,
   "metadata": {},
   "outputs": [
    {
     "name": "stdout",
     "output_type": "stream",
     "text": [
      "0.18518518518518512\n"
     ]
    }
   ],
   "source": [
    "x2 = np.array([8/9, 1/9, 1/9])\n",
    "print(jini(x2)) "
   ]
  },
  {
   "cell_type": "markdown",
   "metadata": {},
   "source": [
    "END"
   ]
  }
 ],
 "metadata": {
  "kernelspec": {
   "display_name": "Python 3",
   "language": "python",
   "name": "python3"
  },
  "language_info": {
   "codemirror_mode": {
    "name": "ipython",
    "version": 3
   },
   "file_extension": ".py",
   "mimetype": "text/x-python",
   "name": "python",
   "nbconvert_exporter": "python",
   "pygments_lexer": "ipython3",
   "version": "3.7.1"
  }
 },
 "nbformat": 4,
 "nbformat_minor": 2
}
