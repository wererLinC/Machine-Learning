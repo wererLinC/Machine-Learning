{
 "cells": [
  {
   "cell_type": "code",
   "execution_count": 2,
   "metadata": {},
   "outputs": [
    {
     "data": {
      "text/plain": [
       "array([[17,  0],\n",
       "       [ 0, 13]])"
      ]
     },
     "execution_count": 2,
     "metadata": {},
     "output_type": "execute_result"
    }
   ],
   "source": [
    "import numpy as np\n",
    "\n",
    "\n",
    "def TP(y_true, y_predict):\n",
    "    assert len(y_true) == len(y_predict)\n",
    "    return np.sum((y_true == 1) & (y_predict == 1))\n",
    "\n",
    "def FN(y_true, y_predict):\n",
    "    assert len(y_true) == len(y_predict)\n",
    "    return np.sum((y_true == 1) & (y_predict == 0))\n",
    "\n",
    "def FP(y_true, y_predict):\n",
    "    assert len(y_true) == len(y_predict)\n",
    "    return np.sum((y_true == 0) & (y_predict == 1))\n",
    "\n",
    "def TN(y_true, y_predict):\n",
    "    assert len(y_true) == len(y_predict)\n",
    "    return np.sum((y_true == 0) & (y_predict == 0))\n",
    "\n",
    "# 实现混淆矩阵\n",
    "def confusion_matrix(y_true, y_predict):\n",
    "    return np.array([\n",
    "        [TN(y_true, y_predict), FP(y_true, y_predict)],\n",
    "        [FN(y_true, y_predict), TP(y_true, y_predict)]])\n",
    "\n",
    "from sklearn import datasets\n",
    "import matplotlib.pyplot as plt\n",
    "iris = datasets.load_iris()\n",
    "X = iris.data[:, :2]\n",
    "Y = iris.target\n",
    "# 我们选取两个来做二分类就好了\n",
    "iris_x = X[Y<2]\n",
    "iris_y = Y[Y<2]\n",
    "\n",
    "from sklearn.neighbors import KNeighborsClassifier\n",
    "# 实例化KNN()方法\n",
    "knn_clf = KNeighborsClassifier()\n",
    "\n",
    "# 使用留一法处理数据\n",
    "def train_test_split(x, y):\n",
    "    shuffle_indexs = np.random.permutation(len(x))\n",
    "    # 看我们要留几成当作测试数据集\n",
    "    test_radio = 0.3\n",
    "    # 求出test的个数\n",
    "    test_size = int(len(x)*test_radio)\n",
    "\n",
    "    # 比如说我现在0-test_size当作test的数据 test_size-最后当成train数据\n",
    "    test_indexs = shuffle_indexs[:test_size]\n",
    "    train_indexs = shuffle_indexs[test_size:]\n",
    "    # 使用fance indexing 进行取值\n",
    "    train_x = x[train_indexs]\n",
    "    train_y = y[train_indexs]\n",
    "\n",
    "    test_x = x[test_indexs]\n",
    "    test_y = y[test_indexs]\n",
    "    return train_x, test_x, train_y, test_y\n",
    "# 使用train_test_split 划分成训练数据集和测试数据集\n",
    "train_x, test_x, train_y, test_y = train_test_split(iris_x, iris_y)\n",
    "# 进行数据的传送\n",
    "knn_clf.fit(train_x, train_y)\n",
    "# 对测试数据集进行预测\n",
    "y_predict = knn_clf.predict(test_x)\n",
    "# 计算混淆矩阵\n",
    "confusion_matrix(test_y, y_predict)"
   ]
  },
  {
   "cell_type": "markdown",
   "metadata": {},
   "source": [
    "实现精准率和召回率"
   ]
  },
  {
   "cell_type": "code",
   "execution_count": 3,
   "metadata": {},
   "outputs": [
    {
     "data": {
      "text/plain": [
       "1.0"
      ]
     },
     "execution_count": 3,
     "metadata": {},
     "output_type": "execute_result"
    }
   ],
   "source": [
    "# 根据精准率的公式实现\n",
    "def precision(y_true, y_predict):\n",
    "    tp = TP(y_true, y_predict)\n",
    "    fp = FP(y_true, y_predict)\n",
    "    return tp / (tp + fp) # 正确预测正样本 / （正确预测正样本 + 错误预测正样本）= 预测正样本个数\n",
    "\n",
    "# 根据召回率的公式实现\n",
    "def recall(y_true, y_predict):\n",
    "    tp = TP(y_true, y_predict)\n",
    "    fn = FN(y_true, y_predict)\n",
    "    return tp / (tp + fn)  # 正确预测正样本 / （正确预测正样本 + 错误预测负样本）= 数据库中正样本个数\n",
    "    \n",
    "precision(test_y, y_predict)  "
   ]
  },
  {
   "cell_type": "code",
   "execution_count": 9,
   "metadata": {},
   "outputs": [
    {
     "data": {
      "text/plain": [
       "1.0"
      ]
     },
     "execution_count": 9,
     "metadata": {},
     "output_type": "execute_result"
    }
   ],
   "source": [
    "recall(test_y, y_predict)"
   ]
  },
  {
   "cell_type": "markdown",
   "metadata": {},
   "source": [
    "很是完美呢，说明我们的knn还是很给力的，哈哈"
   ]
  }
 ],
 "metadata": {
  "kernelspec": {
   "display_name": "Python 3",
   "language": "python",
   "name": "python3"
  },
  "language_info": {
   "codemirror_mode": {
    "name": "ipython",
    "version": 3
   },
   "file_extension": ".py",
   "mimetype": "text/x-python",
   "name": "python",
   "nbconvert_exporter": "python",
   "pygments_lexer": "ipython3",
   "version": "3.8.3"
  }
 },
 "nbformat": 4,
 "nbformat_minor": 2
}
