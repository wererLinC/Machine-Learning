{
 "cells": [
  {
   "cell_type": "markdown",
   "metadata": {},
   "source": [
    "前面知识$P(B|A) = \\frac{P(AB)}{P(A)}= \\frac{P(A|B)P(B)}{P(A)}$\n",
    "<br>\n",
    "机器学习中应用$P(y_i|x)=  \\frac{P(x|y_i)P(y_i)}{P(x)} \\quad$表示x分类为$y_i$的概率\n",
    "<br>\n",
    "相互独立时：$P(AB)=P(A)P(B)$\n",
    "<br>\n",
    "<br>\n",
    "对于朴素贝叶斯来说，它蕴含着样本点各个维度是相互独立这个条件\n",
    "<br>\n",
    "$\\Rightarrow P(y_i|x)=  \\frac{P(x_1|y_i)P(x_2|y_i)…P(y_i)}{P(x)} $\n",
    "<br>\n",
    "其中$P(y)=\\frac{|D_y|}{D}$\n",
    "<br>\n",
    "$\\qquad P(x_i|y)=\\frac{|D_{y,x_i}|}{|D_y|} \\quad$其中$D$表示样本数,$D_y$表示分类为$y$的个数\n",
    "<br>\n",
    "为了防止$P(y)与P(x_i|y)为零，进行拉普拉斯修正$\n",
    "<br>\n",
    "$P(y) = \\frac{|D_y + 1|}{|D|+N} \\quad$其中$N$为类别个数\n",
    "<br>\n",
    "$P(x_i|y) = \\frac{|D_{y,x_i} + 1|}{|D_y|+N_i} \\quad$其中$N_i$表示第i个属性可能的取值情况"
   ]
  },
  {
   "cell_type": "markdown",
   "metadata": {},
   "source": [
    "<div  align=\"center\">    \n",
    "    <img src = './img/38.png', width=600, height=200/>\n",
    "    <img src = './img/39.png', width=600, height=200/>\n",
    "</div>"
   ]
  }
 ],
 "metadata": {
  "kernelspec": {
   "display_name": "Python 3",
   "language": "python",
   "name": "python3"
  },
  "language_info": {
   "codemirror_mode": {
    "name": "ipython",
    "version": 3
   },
   "file_extension": ".py",
   "mimetype": "text/x-python",
   "name": "python",
   "nbconvert_exporter": "python",
   "pygments_lexer": "ipython3",
   "version": "3.7.1"
  }
 },
 "nbformat": 4,
 "nbformat_minor": 2
}
