{
 "cells": [
  {
   "cell_type": "markdown",
   "metadata": {},
   "source": [
    "奇异值分解\n",
    "<br>\n",
    "若$A_{m \\times n} \\Rightarrow A^TA为n \\times n 且是对称的$\n",
    "<br>\n",
    "相应特征值$\\lambda _i和特征向量v_i$\n",
    "<br>\n",
    "奇异值$\\sigma _i = \\sqrt{\\lambda _i}$\n",
    "<br>\n",
    "奇异值分解\n",
    "$A_{m \\times n} = U_{m \\times n} \\sum _{n \\times n} V_{n \\times n}$\n",
    "<br>其中$V$是$A^TA的特征向量矩阵进行标准化$\n",
    "<br>\n",
    "假设当$j \\leq r$时，$\\lambda _j > 0$;$j > r$时，$\\lambda _j = 0 \\quad(0 \\leq r \\leq m)$\n",
    "<br>\n",
    "$U=(u_1,…,u_n) \\quad$其中前$r$个$u_i=\\frac{AV_i}{\\sigma_i}$剩下的则用施密特正交化\n",
    "<br>\n",
    "$\\sum = \\begin{bmatrix} \\sigma_1 & \\cdots & 0 \\\\ \\vdots & \\ddots & \\vdots \\\\ 0 & \\cdots & 0 \\end{bmatrix}$\n",
    "<br>\n",
    "##### 应用\n",
    "<br>\n",
    "$x = k_1v_1 + …+ k_nv_n = VK $\n",
    "<br>\n",
    "$Ax = U \\sum V^TVK=U \\sum K$\n",
    "<br>\n",
    "$\\quad =(u_1,…,u_n) \\begin{bmatrix} \\sigma_1 & \\cdots & 0 \\\\ \\vdots & \\ddots & \\vdots \\\\ 0 & \\cdots & 0 \\end{bmatrix} (k_1,…,k_n)^T $\n",
    "<br>\n",
    "当$\\sigma_i$为零部分就实现了降维"
   ]
  }
 ],
 "metadata": {
  "kernelspec": {
   "display_name": "Python 3 (ipykernel)",
   "language": "python",
   "name": "python3"
  },
  "language_info": {
   "codemirror_mode": {
    "name": "ipython",
    "version": 3
   },
   "file_extension": ".py",
   "mimetype": "text/x-python",
   "name": "python",
   "nbconvert_exporter": "python",
   "pygments_lexer": "ipython3",
   "version": "3.9.7"
  }
 },
 "nbformat": 4,
 "nbformat_minor": 2
}
