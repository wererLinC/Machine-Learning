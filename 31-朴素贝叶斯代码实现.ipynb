{
 "cells": [
  {
   "cell_type": "code",
   "execution_count": 1,
   "metadata": {},
   "outputs": [],
   "source": [
    "#朴素贝叶斯原生代码实现\n",
    "import numpy as np\n",
    "\n",
    "# 数据集的准备\n",
    "def loaddata():\n",
    "    X = np.array([[1,'S'],[1,'M'],[1,'M'],[1,'S'],\n",
    "         [1, 'S'], [2, 'S'], [2, 'M'], [2, 'M'],\n",
    "         [2, 'L'], [2, 'L'], [3, 'L'], [3, 'M'],\n",
    "         [3, 'M'], [3, 'L'], [3, 'L']])\n",
    "    y = np.array([-1,-1,1,1,-1,-1,-1,1,1,1,1,1,1,1,-1])\n",
    "    return X, y\n",
    "\n",
    "# 进行数据的训练\n",
    "def Train(trainset,train_labels):\n",
    "    m = trainset.shape[0] #数据量\n",
    "    n = trainset.shape[1] #特征数\n",
    "    prior_probability = {}# 先验概率 key是类别值，value是类别的概率值\n",
    "    conditional_probability ={}# 条件概率 key的构造：类别，特征,特征值\n",
    "    labels = set(train_labels)\n",
    "    # 计算先验概率(此时没有除以总数据量m)\n",
    "    for label in labels:\n",
    "        prior_probability[label] = len(y[y == label])\n",
    "\n",
    "    #计算条件概率\n",
    "    for i in range(m):\n",
    "        for j in range(n):\n",
    "            # key的构造：类别，特征,特征值\n",
    "            key = str(y[i])+','+str(j)+','+str(trainset[i][j])\n",
    "            if key in conditional_probability:\n",
    "                conditional_probability[key] += 1\n",
    "            else:\n",
    "                conditional_probability[key] = 1\n",
    "\n",
    "    conditional_probability_final = {}#因字典在循环时不能改变，故定义新字典保存值\n",
    "    for key in conditional_probability:\n",
    "        label = key.split(',')[0]\n",
    "        conditional_probability_final[key] = conditional_probability[key]/prior_probability[int(label)]\n",
    "\n",
    "    # 最终的先验概率(此时除以总数据量m)\n",
    "    for label in labels:\n",
    "        prior_probability[label] = prior_probability[label]/m\n",
    "    return prior_probability,conditional_probability_final,labels\n",
    "\n",
    "# 进行数据的预测\n",
    "def predict(data):\n",
    "    result={}\n",
    "    for label in train_labels_set:\n",
    "        temp=1.0\n",
    "        for j in range(len(data)):\n",
    "            key = str(label)+','+str(j)+','+str(data[j])\n",
    "            temp = temp*conditional_probability[key]\n",
    "        result[label] = temp * prior_probability[label]\n",
    "    print('result=',result)\n",
    "\n",
    "    return sorted(result.items(), key=lambda x: x[1],reverse=True)[0][0]"
   ]
  },
  {
   "cell_type": "code",
   "execution_count": 3,
   "metadata": {},
   "outputs": [
    {
     "name": "stdout",
     "output_type": "stream",
     "text": [
      "prior_probability={1: 0.6, -1: 0.4}\n",
      "conditional_probability={'-1,0,1': 0.5, '-1,1,S': 0.5, '-1,1,M': 0.3333333333333333, '1,0,1': 0.2222222222222222, '1,1,M': 0.4444444444444444, '1,1,S': 0.1111111111111111, '-1,0,2': 0.3333333333333333, '1,0,2': 0.3333333333333333, '1,1,L': 0.4444444444444444, '1,0,3': 0.4444444444444444, '-1,0,3': 0.16666666666666666, '-1,1,L': 0.16666666666666666}\n",
      "result= {1: 0.02222222222222222, -1: 0.06666666666666667}\n",
      "y_hat= -1\n"
     ]
    }
   ],
   "source": [
    "X,y = loaddata()\n",
    "prior_probability,conditional_probability,train_labels_set = Train(X,y)\n",
    "\n",
    "print('prior_probability='+str(prior_probability))\n",
    "print('conditional_probability='+str(conditional_probability))\n",
    "y_hat = predict([2,'S'])\n",
    "print('y_hat=',y_hat)"
   ]
  },
  {
   "cell_type": "markdown",
   "metadata": {},
   "source": [
    "END"
   ]
  }
 ],
 "metadata": {
  "kernelspec": {
   "display_name": "Python 3",
   "language": "python",
   "name": "python3"
  },
  "language_info": {
   "codemirror_mode": {
    "name": "ipython",
    "version": 3
   },
   "file_extension": ".py",
   "mimetype": "text/x-python",
   "name": "python",
   "nbconvert_exporter": "python",
   "pygments_lexer": "ipython3",
   "version": "3.8.3"
  }
 },
 "nbformat": 4,
 "nbformat_minor": 2
}
