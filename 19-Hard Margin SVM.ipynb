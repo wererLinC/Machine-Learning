{
 "cells": [
  {
   "cell_type": "markdown",
   "metadata": {},
   "source": [
    "简单线性可分"
   ]
  },
  {
   "cell_type": "markdown",
   "metadata": {},
   "source": [
    "**前面知识储备**\n",
    "\n",
    "求不等式下的极值\n",
    "\n",
    "求$f(x) \\quad s.t g(x) \\leq 0$  这边需要注意的是必须小于0（要想尽一切办法）\n",
    "<br>\n",
    "$L(x, \\alpha ) = f(x) + \\alpha g(x)$\n",
    "<br>\n",
    "$s.t \\quad \\partial{L} = 0$\n",
    "<br>\n",
    "$\\quad \\quad \\alpha \\geq 0$\n",
    "<br>\n",
    "$\\quad \\quad \\alpha g(x) \\geq 0$\n",
    "<br>\n",
    "$\\quad \\quad g(x) \\leq 0$\n",
    "\n",
    "KKT条件有两层含义：\n",
    "<br>\n",
    "$\\quad \\alpha=0;\\partial{L}=0 \\Rightarrow g(x) \\leq0$\n",
    "<br>\n",
    "$\\quad g(x)=0;\\partial{L}=0 \\Rightarrow \\alpha \\gt 0$\n",
    "\n",
    "例：$f(x) = x^2$ 求在$b-x \\leq 0$的条件下，$f(x)$极值\n",
    "<br>\n",
    "$L(x, \\alpha) = f(x) + \\alpha(b-x)$\n",
    "<br>\n",
    "$\\partial{L} = 2x - \\alpha = 0 \\Rightarrow x = \\frac{\\alpha}{2}$\n",
    "<br>\n",
    "\n",
    "当$\\alpha = 0$时， $\\partial{L}=2x=0 \\Rightarrow x^*=0 $\n",
    "<br>\n",
    "当$\\alpha \\gt 0$时， $\\partial{L}=b - x=0 \\Rightarrow x = b \\quad \\alpha^*=2b $\n",
    "<br>\n",
    "$\\Rightarrow \\alpha^*=max(0, 2b)$\n"
   ]
  },
  {
   "cell_type": "markdown",
   "metadata": {},
   "source": [
    "<div  align=\"center\">    \n",
    "    <img src = './img/20.jpg', width=600, height=200/>\n",
    "    <img src = './img/21.jpg', width=600, height=200/>\n",
    "    <img src = './img/22.jpg', width=600, height=200/>\n",
    "</div>"
   ]
  },
  {
   "cell_type": "markdown",
   "metadata": {},
   "source": [
    "使用李航统计学上的例子进行解答"
   ]
  },
  {
   "cell_type": "markdown",
   "metadata": {},
   "source": [
    "<div  align=\"center\">    \n",
    "    <img src = './img/23.jpg', width=600, height=200/>\n",
    "</div>"
   ]
  }
 ],
 "metadata": {
  "kernelspec": {
   "display_name": "Python 3",
   "language": "python",
   "name": "python3"
  },
  "language_info": {
   "codemirror_mode": {
    "name": "ipython",
    "version": 3
   },
   "file_extension": ".py",
   "mimetype": "text/x-python",
   "name": "python",
   "nbconvert_exporter": "python",
   "pygments_lexer": "ipython3",
   "version": "3.6.12"
  }
 },
 "nbformat": 4,
 "nbformat_minor": 2
}
