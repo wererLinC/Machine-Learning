{
 "cells": [
  {
   "cell_type": "markdown",
   "metadata": {},
   "source": [
    "集成学习是通过构建并结合多个学习器来完成学习任务"
   ]
  },
  {
   "cell_type": "markdown",
   "metadata": {},
   "source": [
    "通过投票机制来进行数据的预测：\n",
    "    如有T个分类器，则超过半数的基分类正确，则集成分类正确，其公式如下：\n",
    "<div  align=\"center\">    \n",
    "    <img src = './img/40.jpg', width=600, height=200/>\n",
    "</div>"
   ]
  },
  {
   "cell_type": "markdown",
   "metadata": {},
   "source": [
    "假定我们有三个分类器，每个模型的正确率为50%，那么通过公式我们可以得到75%的正确率。可想，如果有500个那会怎么样，1000个？"
   ]
  }
 ],
 "metadata": {
  "kernelspec": {
   "display_name": "Python 3",
   "language": "python",
   "name": "python3"
  },
  "language_info": {
   "codemirror_mode": {
    "name": "ipython",
    "version": 3
   },
   "file_extension": ".py",
   "mimetype": "text/x-python",
   "name": "python",
   "nbconvert_exporter": "python",
   "pygments_lexer": "ipython3",
   "version": "3.6.12"
  }
 },
 "nbformat": 4,
 "nbformat_minor": 2
}
