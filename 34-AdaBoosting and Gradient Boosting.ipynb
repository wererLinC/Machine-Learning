{
 "cells": [
  {
   "cell_type": "markdown",
   "metadata": {},
   "source": [
    "AdaBoosting:"
   ]
  },
  {
   "cell_type": "markdown",
   "metadata": {},
   "source": [
    "1.大致的思路是这样，在上一个模型中没有学到的点，权重值增加，而上次拟合的好的点权重减小，也就是说我们当前模型主要是学习上次没有学习到的东西"
   ]
  },
  {
   "cell_type": "markdown",
   "metadata": {},
   "source": [
    "2.也可以解释为对上一个模型的补偿"
   ]
  },
  {
   "cell_type": "markdown",
   "metadata": {},
   "source": [
    "Gradient Boosting"
   ]
  },
  {
   "cell_type": "markdown",
   "metadata": {},
   "source": [
    "1.Â 对数据拟合一个简单的线性回归或决策树（我在我的代码中选择了决策树）[将x作为输入，将y作为输出]\n",
    "\n",
    "2.Â 计算误差残差。实际目标值减去预测目标值[e1 = y_predicted1 - y]\n",
    "\n",
    "3.Â 将误差残差的新模型作为具有相同输入变量的目标变量[称为e1_predicted]\n",
    "\n",
    "4.Â 将预测的残差添加到先前的预测中[y_predicted2 = y_predicted1 + e1_predicted]\n",
    "\n",
    "5.Â 在剩余的残差上拟合另一个模型。即[e2 = y-y_predicted2]并重复步骤2到5，直到它开始过拟合或残差总和变成恒定。过度拟合可以通过持续检查验证数据的准确性来控制。\n",
    "\n",
    "共享代码是一种非优化的梯度提升的普通实现。库中的大多数梯度提升模型都经过了很好的优化，并且有很多超参数。"
   ]
  },
  {
   "cell_type": "code",
   "execution_count": null,
   "metadata": {},
   "outputs": [],
   "source": []
  }
 ],
 "metadata": {
  "kernelspec": {
   "display_name": "Python 3",
   "language": "python",
   "name": "python3"
  },
  "language_info": {
   "codemirror_mode": {
    "name": "ipython",
    "version": 3
   },
   "file_extension": ".py",
   "mimetype": "text/x-python",
   "name": "python",
   "nbconvert_exporter": "python",
   "pygments_lexer": "ipython3",
   "version": "3.6.12"
  }
 },
 "nbformat": 4,
 "nbformat_minor": 2
}
