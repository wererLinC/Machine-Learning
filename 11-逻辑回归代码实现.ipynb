{
 "cells": [
  {
   "cell_type": "code",
   "execution_count": 1,
   "metadata": {},
   "outputs": [],
   "source": [
    "import numpy as np\n",
    "import matplotlib.pyplot as plt"
   ]
  },
  {
   "cell_type": "code",
   "execution_count": 2,
   "metadata": {},
   "outputs": [],
   "source": [
    "# 数据集的准备\n",
    "from sklearn import datasets\n",
    "iris = datasets.load_iris()\n",
    "iris_x = iris.data\n",
    "iris_y = iris.target\n",
    "\n",
    "# 由于我们的逻辑回归解决的是二分类问题，所以我们值需要前两二分类的数据就可以啦\n",
    "x = iris_x[iris_y<2, :2]\n",
    "y = iris_y[iris_y < 2]"
   ]
  },
  {
   "cell_type": "code",
   "execution_count": 3,
   "metadata": {},
   "outputs": [
    {
     "data": {
      "image/png": "[encoded data removed]",
      "text/plain": [
       "<Figure size 432x288 with 1 Axes>"
      ]
     },
     "metadata": {
      "needs_background": "light"
     },
     "output_type": "display_data"
    }
   ],
   "source": [
    "plt.scatter(x[y==0, 0], x[y==0, 1])\n",
    "plt.scatter(x[y==1, 0], x[y==1, 1])\n",
    "plt.show()"
   ]
  },
  {
   "cell_type": "code",
   "execution_count": 4,
   "metadata": {},
   "outputs": [],
   "source": [
    "# 对我们的数据进行划分\n",
    "from sklearn.model_selection import train_test_split\n",
    "train_x, test_x, train_y, test_y = train_test_split(x, y)"
   ]
  },
  {
   "cell_type": "code",
   "execution_count": 5,
   "metadata": {},
   "outputs": [],
   "source": [
    "# 定义我们sigmoid\n",
    "def sigmoid(z):\n",
    "    return 1/(1 + np.exp(-z))"
   ]
  },
  {
   "cell_type": "code",
   "execution_count": 6,
   "metadata": {},
   "outputs": [],
   "source": [
    "# 定义我们的损失函数\n",
    "def J(theta, x_b, y):\n",
    "    y_hat = sigmoid(x_b.dot(theta))\n",
    "    return -1/len(y) * np.sum((y * np.log(y_hat)) + ((1-y)*np.log(1-y_hat)))"
   ]
  },
  {
   "cell_type": "markdown",
   "metadata": {},
   "source": [
    "$ \\frac{1}{n}\\sum_{i=1}^n(\\bar{y}^{(i)}-y^{(i)})X_j^{(i)}$"
   ]
  },
  {
   "cell_type": "code",
   "execution_count": 7,
   "metadata": {},
   "outputs": [],
   "source": [
    "# 定义我们的导数，前面我们已经用公式推导出来了\n",
    "def dJ(theta, x_b, y):\n",
    "    return x_b.T.dot(sigmoid(x_b.dot(theta)) - y) / len(y)"
   ]
  },
  {
   "cell_type": "code",
   "execution_count": 8,
   "metadata": {},
   "outputs": [],
   "source": [
    "# 使用我们的梯度下降来求得最优解\n",
    "def gradient_descent(theta, x_b, y):  \n",
    "    # 利用我们的梯度下降来得到最佳的theta\n",
    "    eta = 0.1 # 学习学率\n",
    "    epsilon = 1e-8 # 相当于0的存在\n",
    "    # 此时，我们的theta，应该是一个向量，不再是一个标量\n",
    "    while True:\n",
    "        gradient = dJ(theta, x_b, y)\n",
    "        last_theta = theta\n",
    "        theta = theta - eta * gradient # 进行迭代操作\n",
    "\n",
    "        if abs(J(theta, x_b, y) - J(last_theta, x_b, y)) < epsilon:\n",
    "            return theta  # 返回最佳的theta值\n",
    "            break;"
   ]
  },
  {
   "cell_type": "code",
   "execution_count": 9,
   "metadata": {},
   "outputs": [],
   "source": [
    "# 这在前面的线性回归中已经有涉及到了\n",
    "x_b = np.hstack([ np.ones((len(train_x) ,1)),train_x])\n",
    "initial_theta = np.zeros(x_b.shape[1])"
   ]
  },
  {
   "cell_type": "code",
   "execution_count": 10,
   "metadata": {},
   "outputs": [],
   "source": [
    "theta = gradient_descent(initial_theta, x_b, train_y)"
   ]
  },
  {
   "cell_type": "code",
   "execution_count": 11,
   "metadata": {},
   "outputs": [],
   "source": [
    "# 进行数据的预测\n",
    "test_x_b = np.hstack([np.ones((len(test_x),1)), test_x])\n",
    "y_predict = test_x_b.dot(theta)"
   ]
  },
  {
   "cell_type": "code",
   "execution_count": 12,
   "metadata": {},
   "outputs": [
    {
     "data": {
      "text/plain": [
       "array([ 19.94196782,  23.12062209,  13.27560128,  -7.65607724,\n",
       "        -9.05224314,  11.4931129 ,  16.60878455,  -6.88343227,\n",
       "         8.54625212,  -4.09110048,  13.27560128, -10.52567353,\n",
       "       -13.8588568 ,  15.28988315,  -7.50154825, -12.6172199 ,\n",
       "       -10.52567353,  25.05763947,  13.04380778, -11.84457492,\n",
       "        -7.42428375,  13.04380778,   9.94241801,  21.7244562 ,\n",
       "         4.98127535])"
      ]
     },
     "execution_count": 12,
     "metadata": {},
     "output_type": "execute_result"
    }
   ],
   "source": [
    "y_predict   # 我们知道 > 0.5 为1， 小于0.5为0\n",
    "# 这就与我们前面的decisipon_function会联系起来"
   ]
  },
  {
   "cell_type": "code",
   "execution_count": 21,
   "metadata": {},
   "outputs": [
    {
     "data": {
      "text/plain": [
       "array([1, 1, 1, 0, 0, 1, 1, 0, 1, 0, 1, 0, 0, 1, 0, 0, 0, 1, 1, 0, 0, 1,\n",
       "       1, 1, 1])"
      ]
     },
     "execution_count": 21,
     "metadata": {},
     "output_type": "execute_result"
    }
   ],
   "source": [
    "predict_y = np.array(y_predict>=0.5, dtype='int')\n",
    "predict_y"
   ]
  },
  {
   "cell_type": "code",
   "execution_count": 44,
   "metadata": {},
   "outputs": [
    {
     "data": {
      "text/plain": [
       "array([1, 1, 1, 0, 0, 1, 1, 0, 1, 0, 1, 0, 0, 1, 0, 0, 0, 1, 1, 0, 0, 1,\n",
       "       1, 1, 1])"
      ]
     },
     "execution_count": 44,
     "metadata": {},
     "output_type": "execute_result"
    }
   ],
   "source": [
    "test_y"
   ]
  },
  {
   "cell_type": "code",
   "execution_count": 45,
   "metadata": {},
   "outputs": [
    {
     "data": {
      "text/plain": [
       "25"
      ]
     },
     "execution_count": 45,
     "metadata": {},
     "output_type": "execute_result"
    }
   ],
   "source": [
    "test_y.shape[0]"
   ]
  },
  {
   "cell_type": "code",
   "execution_count": 49,
   "metadata": {},
   "outputs": [
    {
     "name": "stdout",
     "output_type": "stream",
     "text": [
      "准确率为:0.960\n"
     ]
    }
   ],
   "source": [
    "print(\"准确率为:%.3f\"%(len(test_y[np.where(test_y == predict_y)]) / test_y.shape[0]))"
   ]
  },
  {
   "cell_type": "code",
   "execution_count": 59,
   "metadata": {},
   "outputs": [
    {
     "name": "stdout",
     "output_type": "stream",
     "text": [
      "先关注一下决策函数的值，后面我们在进行精准和召回率调节的时候会用到\n",
      "[ 3.32678276  3.87069809  2.14758597 -1.46780906 -1.68266289  1.81852447\n",
      "  2.73718436 -1.23939373  1.34313373 -0.80968606  2.14758597 -1.92035826\n",
      " -2.50995666  2.54517206 -1.42212599 -2.34078589 -1.92035826  4.24544266\n",
      "  2.07906137 -2.11237056 -1.39928446  2.07906137  1.55798757  3.65584426\n",
      "  0.68501074]\n",
      "sklearn中逻辑回归预测结果为： [1 1 1 0 0 1 1 0 1 0 1 0 0 1 0 0 0 1 1 0 0 1 1 1 1]\n"
     ]
    }
   ],
   "source": [
    "from sklearn.linear_model import LogisticRegression\n",
    "log_reg = LogisticRegression()\n",
    "log_reg.fit(train_x, train_y)\n",
    "\n",
    "print(\"先关注一下决策函数的值，后面我们在进行精准和召回率调节的时候会用到\")\n",
    "print(log_reg.decision_function(test_x))\n",
    "# 我们也设置 >= 0.5 为1，否则为0\n",
    "print(\"sklearn中逻辑回归预测结果为：\", np.array(log_reg.decision_function(test_x) >= 0.5, dtype='int'))"
   ]
  },
  {
   "cell_type": "code",
   "execution_count": 60,
   "metadata": {},
   "outputs": [
    {
     "name": "stdout",
     "output_type": "stream",
     "text": [
      "准确率为:1.000\n"
     ]
    }
   ],
   "source": [
    "print(\"准确率为:%.3f\"%(len(test_y[np.where(test_y == np.array(log_reg.decision_function(test_x) >= 0.5, dtype='int'))]) / test_y.shape[0]))"
   ]
  },
  {
   "cell_type": "markdown",
   "metadata": {},
   "source": [
    "上述可以自行比较一下"
   ]
  }
 ],
 "metadata": {
  "kernelspec": {
   "display_name": "Python 3 (ipykernel)",
   "language": "python",
   "name": "python3"
  },
  "language_info": {
   "codemirror_mode": {
    "name": "ipython",
    "version": 3
   },
   "file_extension": ".py",
   "mimetype": "text/x-python",
   "name": "python",
   "nbconvert_exporter": "python",
   "pygments_lexer": "ipython3",
   "version": "3.9.7"
  }
 },
 "nbformat": 4,
 "nbformat_minor": 2
}
