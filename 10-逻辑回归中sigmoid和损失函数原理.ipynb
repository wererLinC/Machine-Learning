{
 "cells": [
  {
   "cell_type": "code",
   "execution_count": 1,
   "metadata": {},
   "outputs": [],
   "source": [
    "import numpy as np\n",
    "import matplotlib.pyplot as plt"
   ]
  },
  {
   "cell_type": "markdown",
   "metadata": {},
   "source": [
    "逻辑回归中的损失函数\n",
    "<br>\n",
    "$cost= \\begin{cases} -\\log(p) \\quad y=1 \\\\ -\\log(1-p) \\quad y=0 \\end{cases} \\qquad \\clubsuit \\sigma:sigmoid$   \n",
    "<br>\n",
    "$\\Rightarrow cost = -y\\log(p)-(1-y)\\log(1-p)$ \n",
    "<br>\n",
    "<br>\n",
    "逻辑回归的损失函数由两部分构成，一部分是y=1时，只会产生$-y\\log(p) \\qquad$因为$1-y=0$\n",
    "<br>$\\qquad \\qquad \\qquad \\qquad \\qquad \\quad$另一部分是y=0时，只会产生$-(1-y)\\log(1-p)$ \n",
    "<br>\n",
    "对于$-y\\log(p)$当$p \\to 1$时，$log(p) \\to 0$,也就说明当预测值更倾向于1时，产生的误差会更小，而当$p \\to 0$时，则$log(p) \\to \\infty$\n",
    "<br>\n",
    "$-(1-y)\\log(1-p)$ 的原理也是相同\n",
    "<br>\n",
    "<br>\n",
    "$\\quad J(W)=-\\frac{1}{n}\\sum_{i=1}^n(y^{(i)} \\log(p_i)+(1-y^{(i)})\\log(1-p_i))$\n",
    "<br>\n",
    "$\\quad \\because p_i=\\sigma({X_b}^{(i)}W) = \\frac{1}{1+e^{-{X_b}^(i)W}}$\n",
    "<br>\n",
    "$\\Rightarrow J(W)==-\\frac{1}{n}\\sum_{i=1}^n(y^{(i)} \\log(\\sigma({X_b}^{(i)}W))+(1-y^{(i)})\\log(1-\\sigma({X_b}^{(i)}W))) \\quad {X_b}^{(i)}$ 表示第i行\n",
    "<br>\n",
    "<br>\n",
    "我们可以对着两部分分开求导\n",
    "<br>\n",
    "$\\frac{\\partial(y^{(i)}\\log(\\sigma({X_b}^{(i)}W))}{\\partial W_j} = y^{(i)}(1-\\sigma({X_b}^{(i)}W))X_{b(j)}^{(i)} \\qquad \\quad \\quad$ \n",
    "<br>\n",
    "$\\frac{\\partial((1-y^{(i)})\\log(\\sigma(1-{X_b}^{(i)}W))}{\\partial W_j} = (1-y^{(i)})(-\\sigma({X_b}^{(i)}W))X_{b(j)}^{(i)} \\quad$其中 $ X_{b(j)}^{(i)}$表示的是第i行j列\n",
    "<br>\n",
    "$(3)+(4) =\\frac{1}{n}\\sum_{i=1}^n(\\sigma({X_b}^{(i)}W)-y^{(i)})X_{b(j)}^{(i)}$\n",
    "<br>\n",
    "$\\qquad \\qquad = \\frac{1}{n}\\sum_{i=1}^n(\\bar{y}^{(i)}-y^{(i)})X_{b(j)}^{(i)}$\n",
    "<br>\n",
    "<br>\n",
    "得到$X_{b(j)}^{(i)}$的原因：$W_j$对应的是${X_b}^{(i)}$第j列的参数\n"
   ]
  },
  {
   "cell_type": "markdown",
   "metadata": {},
   "source": [
    "END"
   ]
  }
 ],
 "metadata": {
  "kernelspec": {
   "display_name": "Python 3 (ipykernel)",
   "language": "python",
   "name": "python3"
  },
  "language_info": {
   "codemirror_mode": {
    "name": "ipython",
    "version": 3
   },
   "file_extension": ".py",
   "mimetype": "text/x-python",
   "name": "python",
   "nbconvert_exporter": "python",
   "pygments_lexer": "ipython3",
   "version": "3.9.7"
  }
 },
 "nbformat": 4,
 "nbformat_minor": 2
}
