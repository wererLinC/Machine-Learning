{
 "cells": [
  {
   "cell_type": "code",
   "execution_count": 1,
   "metadata": {},
   "outputs": [],
   "source": [
    "import numpy as np\n",
    "import matplotlib.pyplot as plt"
   ]
  },
  {
   "cell_type": "code",
   "execution_count": 2,
   "metadata": {},
   "outputs": [
    {
     "data": {
      "text/plain": [
       "Pipeline(steps=[('Poly', PolynomialFeatures(degree=50)),\n",
       "                ('sta_scaler', StandardScaler()),\n",
       "                ('line_reg', LinearRegression())])"
      ]
     },
     "execution_count": 2,
     "metadata": {},
     "output_type": "execute_result"
    }
   ],
   "source": [
    "x = np.random.uniform(-3, 3, size = 100)\n",
    "X = x.reshape(-1, 1)\n",
    "y = x**2 + x + 2  + np.random.normal(size=100)\n",
    "y.shape\n",
    "\n",
    "from sklearn.pipeline import Pipeline\n",
    "from sklearn.preprocessing import PolynomialFeatures\n",
    "from sklearn.preprocessing import StandardScaler\n",
    "from sklearn.linear_model import LinearRegression\n",
    "\n",
    "line_reg = LinearRegression()\n",
    "def PolyRegression(degree = 50):\n",
    "    return Pipeline([\n",
    "            ('Poly', PolynomialFeatures(degree=degree)),\n",
    "            ('sta_scaler', StandardScaler()),\n",
    "            ('line_reg', line_reg)\n",
    "        ])\n",
    "\n",
    "poly_reg50 = PolyRegression(degree = 50)\n",
    "poly_reg50.fit(X, y)"
   ]
  },
  {
   "cell_type": "code",
   "execution_count": 3,
   "metadata": {},
   "outputs": [],
   "source": [
    "# 绘制图像的函数\n",
    "def plot_mode(model):\n",
    "    plt.scatter(x, y)\n",
    "    y_predict = model.predict(X)\n",
    "    plt.plot(np.sort(x), y_predict[np.argsort(x)], color='r')"
   ]
  },
  {
   "cell_type": "code",
   "execution_count": 4,
   "metadata": {},
   "outputs": [
    {
     "data": {
      "image/png": "[encoded data removed]",
      "text/plain": [
       "<Figure size 432x288 with 1 Axes>"
      ]
     },
     "metadata": {
      "needs_background": "light"
     },
     "output_type": "display_data"
    }
   ],
   "source": [
    "plot_mode(poly_reg50)"
   ]
  },
  {
   "cell_type": "code",
   "execution_count": 5,
   "metadata": {},
   "outputs": [
    {
     "data": {
      "text/plain": [
       "array([ 3.58738917e+12, -1.30970679e+01,  3.20593267e+01,  1.63671422e+03,\n",
       "       -5.69759929e+03, -7.69903328e+04,  2.81268077e+05,  1.97682778e+06,\n",
       "       -6.73636932e+06, -3.20331414e+07,  9.68135887e+07,  3.50189419e+08,\n",
       "       -9.24303076e+08, -2.67503208e+09,  6.20268249e+09,  1.45578272e+10,\n",
       "       -3.02097242e+10, -5.68076910e+10,  1.08448625e+11,  1.57321529e+11,\n",
       "       -2.87135476e+11, -2.96604372e+11,  5.50606805e+11,  3.33376281e+11,\n",
       "       -7.24428861e+11, -9.35160442e+10,  5.52811440e+11, -3.01261063e+11,\n",
       "       -4.40020044e+10,  3.64424178e+11, -3.55189037e+11,  8.29106180e+10,\n",
       "        2.52612863e+11, -4.11705389e+11,  1.09244120e+11,  7.36772086e+10,\n",
       "       -2.13637157e+11,  3.96071682e+11,  3.67559064e+10, -2.36502470e+11,\n",
       "        9.03793526e+10, -2.78891940e+11, -9.07123507e+10,  4.49638111e+11,\n",
       "        8.49059864e+10, -2.52497452e+11, -7.78932428e+10,  6.35442680e+10,\n",
       "        4.02644570e+10, -5.38030875e+09, -8.19043431e+09])"
      ]
     },
     "execution_count": 5,
     "metadata": {},
     "output_type": "execute_result"
    }
   ],
   "source": [
    "line_reg.coef_"
   ]
  },
  {
   "cell_type": "markdown",
   "metadata": {},
   "source": [
    "出现过拟合的原因是某些参数的值过大"
   ]
  },
  {
   "cell_type": "markdown",
   "metadata": {},
   "source": [
    "### 使用岭回归"
   ]
  },
  {
   "cell_type": "code",
   "execution_count": 6,
   "metadata": {},
   "outputs": [
    {
     "data": {
      "text/html": [
       "<img src=\"./img/多项式回归损失函数.png\", width=400, height=200>\n"
      ],
      "text/plain": [
       "<IPython.core.display.HTML object>"
      ]
     },
     "metadata": {},
     "output_type": "display_data"
    }
   ],
   "source": [
    "%%html\n",
    "<img src=\"./img/多项式回归损失函数.png\", width=400, height=200>"
   ]
  },
  {
   "cell_type": "code",
   "execution_count": 7,
   "metadata": {},
   "outputs": [
    {
     "data": {
      "text/html": [
       "<img src=\"./img/岭回归损失函数.png\", width=400, height=200>\n"
      ],
      "text/plain": [
       "<IPython.core.display.HTML object>"
      ]
     },
     "metadata": {},
     "output_type": "display_data"
    }
   ],
   "source": [
    "%%html\n",
    "<img src=\"./img/岭回归损失函数.png\", width=400, height=200>"
   ]
  },
  {
   "cell_type": "code",
   "execution_count": 8,
   "metadata": {},
   "outputs": [],
   "source": [
    "from sklearn.linear_model import Ridge\n",
    "\n",
    "def RidgeRegression(degree, alpha):\n",
    "    return Pipeline([\n",
    "            ('Poly', PolynomialFeatures(degree=degree)),\n",
    "            ('sta_scaler', StandardScaler()),\n",
    "            ('rid_reg', Ridge(alpha=alpha))\n",
    "        ])"
   ]
  },
  {
   "cell_type": "code",
   "execution_count": 9,
   "metadata": {},
   "outputs": [
    {
     "data": {
      "text/plain": [
       "0.9324867362582999"
      ]
     },
     "execution_count": 9,
     "metadata": {},
     "output_type": "execute_result"
    }
   ],
   "source": [
    "from sklearn.metrics import mean_squared_error\n",
    "rid_reg20 = RidgeRegression(20, 10)\n",
    "rid_reg20.fit(X, y)\n",
    "ridge_reg20_predict = rid_reg20.predict(X)\n",
    "mean_squared_error(y, ridge_reg20_predict)"
   ]
  },
  {
   "cell_type": "code",
   "execution_count": 10,
   "metadata": {},
   "outputs": [],
   "source": [
    "# 绘制图像的函数\n",
    "def plot_mode(model):\n",
    "    plt.scatter(x, y)\n",
    "    y_predict = model.predict(X)\n",
    "    plt.plot(np.sort(x), y_predict[np.argsort(x)], color='r')"
   ]
  },
  {
   "cell_type": "code",
   "execution_count": 11,
   "metadata": {},
   "outputs": [
    {
     "data": {
      "image/png": "[encoded data removed]",
      "text/plain": [
       "<Figure size 432x288 with 1 Axes>"
      ]
     },
     "metadata": {
      "needs_background": "light"
     },
     "output_type": "display_data"
    }
   ],
   "source": [
    "plot_mode(rid_reg20)"
   ]
  },
  {
   "cell_type": "code",
   "execution_count": 12,
   "metadata": {},
   "outputs": [
    {
     "data": {
      "image/png": "[encoded data removed]",
      "text/plain": [
       "<Figure size 432x288 with 1 Axes>"
      ]
     },
     "metadata": {
      "needs_background": "light"
     },
     "output_type": "display_data"
    }
   ],
   "source": [
    "rid_reg10000 = RidgeRegression(20, 10000)\n",
    "rid_reg10000.fit(X, y)\n",
    "ridge_reg10000_predict = rid_reg10000.predict(X)\n",
    "mean_squared_error(y, ridge_reg10000_predict)\n",
    "plot_mode(rid_reg10000)"
   ]
  },
  {
   "cell_type": "markdown",
   "metadata": {},
   "source": [
    "当$\\alpha$非常大时，我们的曲线会趋向于直线，这是因为损失函数是平方，当$\\alpha$很大时，<br>\n",
    "只会使得$\\theta$值变得比较小，因此会出现很多值出现趋向于0的情况，所以预测出来的线会趋向于直线"
   ]
  },
  {
   "cell_type": "markdown",
   "metadata": {},
   "source": [
    "### END"
   ]
  }
 ],
 "metadata": {
  "kernelspec": {
   "display_name": "Python 3 (ipykernel)",
   "language": "python",
   "name": "python3"
  },
  "language_info": {
   "codemirror_mode": {
    "name": "ipython",
    "version": 3
   },
   "file_extension": ".py",
   "mimetype": "text/x-python",
   "name": "python",
   "nbconvert_exporter": "python",
   "pygments_lexer": "ipython3",
   "version": "3.9.7"
  }
 },
 "nbformat": 4,
 "nbformat_minor": 2
}
